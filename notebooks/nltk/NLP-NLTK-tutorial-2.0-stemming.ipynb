{
 "cells": [
  {
   "cell_type": "markdown",
   "metadata": {
    "id": "DYwPHfeQzvjo"
   },
   "source": [
    "## Stemming"
   ]
  },
  {
   "cell_type": "code",
   "execution_count": 6,
   "metadata": {
    "executionInfo": {
     "elapsed": 386,
     "status": "ok",
     "timestamp": 1723739141285,
     "user": {
      "displayName": "Nazmirul Izzad Nassir",
      "userId": "07516674803625853227"
     },
     "user_tz": -480
    },
    "id": "eHwK3Upry59m"
   },
   "outputs": [],
   "source": [
    "words = [\n",
    "    \"eating\",\n",
    "    \"eats\",\n",
    "    \"eaten\",\n",
    "    \"writing\",\n",
    "    \"writes\",\n",
    "    \"programming\",\n",
    "    \"program\",\n",
    "    \"history\",\n",
    "    \"finally\",\n",
    "    \"finalized\",\n",
    "    \"congratulation\",\n",
    "    \"sitting\"\n",
    "]"
   ]
  },
  {
   "cell_type": "markdown",
   "metadata": {
    "id": "MKYJNgzu1z09"
   },
   "source": [
    "## 1.0 Stemming: PorterStemmer"
   ]
  },
  {
   "cell_type": "code",
   "execution_count": 2,
   "metadata": {
    "executionInfo": {
     "elapsed": 2909,
     "status": "ok",
     "timestamp": 1723739007218,
     "user": {
      "displayName": "Nazmirul Izzad Nassir",
      "userId": "07516674803625853227"
     },
     "user_tz": -480
    },
    "id": "CKx1e6xR0JvW"
   },
   "outputs": [],
   "source": [
    "from nltk.stem import PorterStemmer"
   ]
  },
  {
   "cell_type": "code",
   "execution_count": 7,
   "metadata": {
    "executionInfo": {
     "elapsed": 7,
     "status": "ok",
     "timestamp": 1723739146125,
     "user": {
      "displayName": "Nazmirul Izzad Nassir",
      "userId": "07516674803625853227"
     },
     "user_tz": -480
    },
    "id": "1IS7ij8-zuwg"
   },
   "outputs": [],
   "source": [
    "stemming = PorterStemmer()"
   ]
  },
  {
   "cell_type": "code",
   "execution_count": 8,
   "metadata": {
    "colab": {
     "base_uri": "https://localhost:8080/"
    },
    "executionInfo": {
     "elapsed": 4,
     "status": "ok",
     "timestamp": 1723739147912,
     "user": {
      "displayName": "Nazmirul Izzad Nassir",
      "userId": "07516674803625853227"
     },
     "user_tz": -480
    },
    "id": "_ffmDpOhzu2W",
    "outputId": "553624d8-2942-4cb4-e098-ea1186052847"
   },
   "outputs": [
    {
     "name": "stdout",
     "output_type": "stream",
     "text": [
      "eating---->eat\n",
      "eats---->eat\n",
      "eaten---->eaten\n",
      "writing---->write\n",
      "writes---->write\n",
      "programming---->program\n",
      "program---->program\n",
      "history---->histori\n",
      "finally---->final\n",
      "finalized---->final\n",
      "congratulation---->congratul\n",
      "sitting---->sit\n"
     ]
    }
   ],
   "source": [
    "for word in words:\n",
    "  print(word+'---->'+stemming.stem(word))"
   ]
  },
  {
   "cell_type": "markdown",
   "metadata": {
    "id": "F4pkn2z82vhl"
   },
   "source": [
    "Totally different word (disadvantage):\n",
    "- histori\n",
    "- congratul\n",
    "\n",
    "It may not giving any meaningful meaning"
   ]
  },
  {
   "cell_type": "markdown",
   "metadata": {
    "id": "H6bNZi7U3Jg2"
   },
   "source": [
    "## 2.0 Stemming: RegexpStemmer class"
   ]
  },
  {
   "cell_type": "code",
   "execution_count": 9,
   "metadata": {
    "executionInfo": {
     "elapsed": 389,
     "status": "ok",
     "timestamp": 1723739272143,
     "user": {
      "displayName": "Nazmirul Izzad Nassir",
      "userId": "07516674803625853227"
     },
     "user_tz": -480
    },
    "id": "-bfKEMrozu8W"
   },
   "outputs": [],
   "source": [
    "from nltk.stem import RegexpStemmer"
   ]
  },
  {
   "cell_type": "code",
   "execution_count": 10,
   "metadata": {
    "executionInfo": {
     "elapsed": 553,
     "status": "ok",
     "timestamp": 1723739448119,
     "user": {
      "displayName": "Nazmirul Izzad Nassir",
      "userId": "07516674803625853227"
     },
     "user_tz": -480
    },
    "id": "oy2lYtuy3eon"
   },
   "outputs": [],
   "source": [
    "# apply regular expression\n",
    "reg_stemmer = RegexpStemmer('ing$|s$|e$|able$', min=4)"
   ]
  },
  {
   "cell_type": "code",
   "execution_count": 11,
   "metadata": {
    "colab": {
     "base_uri": "https://localhost:8080/"
    },
    "executionInfo": {
     "elapsed": 438,
     "status": "ok",
     "timestamp": 1723739587603,
     "user": {
      "displayName": "Nazmirul Izzad Nassir",
      "userId": "07516674803625853227"
     },
     "user_tz": -480
    },
    "id": "zkZKuftD37VA",
    "outputId": "decc0165-e171-46c7-c117-595129a2acf0"
   },
   "outputs": [
    {
     "name": "stdout",
     "output_type": "stream",
     "text": [
      "Return Word: eat\n"
     ]
    }
   ],
   "source": [
    "process_word = reg_stemmer.stem('eating')\n",
    "print(f'Return Word: {process_word}')"
   ]
  },
  {
   "cell_type": "markdown",
   "metadata": {
    "id": "8CochEf55Lth"
   },
   "source": [
    "## 3.0 Stemming: SnowballStemmer"
   ]
  },
  {
   "cell_type": "code",
   "execution_count": 12,
   "metadata": {
    "executionInfo": {
     "elapsed": 418,
     "status": "ok",
     "timestamp": 1723739804723,
     "user": {
      "displayName": "Nazmirul Izzad Nassir",
      "userId": "07516674803625853227"
     },
     "user_tz": -480
    },
    "id": "1p4wmWrA4zjM"
   },
   "outputs": [],
   "source": [
    "from nltk.stem import SnowballStemmer"
   ]
  },
  {
   "cell_type": "code",
   "execution_count": 13,
   "metadata": {
    "executionInfo": {
     "elapsed": 5,
     "status": "ok",
     "timestamp": 1723739827404,
     "user": {
      "displayName": "Nazmirul Izzad Nassir",
      "userId": "07516674803625853227"
     },
     "user_tz": -480
    },
    "id": "iiksBPan5FKe"
   },
   "outputs": [],
   "source": [
    "snowballstemmer = SnowballStemmer('english')"
   ]
  },
  {
   "cell_type": "code",
   "execution_count": 14,
   "metadata": {
    "colab": {
     "base_uri": "https://localhost:8080/"
    },
    "executionInfo": {
     "elapsed": 452,
     "status": "ok",
     "timestamp": 1723739859393,
     "user": {
      "displayName": "Nazmirul Izzad Nassir",
      "userId": "07516674803625853227"
     },
     "user_tz": -480
    },
    "id": "SD7cTqMS5oxQ",
    "outputId": "4024c0b0-9765-4f7d-f9b5-0cbc59cbbc8b"
   },
   "outputs": [
    {
     "name": "stdout",
     "output_type": "stream",
     "text": [
      "eating---->eat\n",
      "eats---->eat\n",
      "eaten---->eaten\n",
      "writing---->write\n",
      "writes---->write\n",
      "programming---->program\n",
      "program---->program\n",
      "history---->histori\n",
      "finally---->final\n",
      "finalized---->final\n",
      "congratulation---->congratul\n",
      "sitting---->sit\n"
     ]
    }
   ],
   "source": [
    "for word in words:\n",
    "  print(word+'---->'+snowballstemmer.stem(word))"
   ]
  },
  {
   "cell_type": "markdown",
   "metadata": {
    "id": "Fhh8Zu8j53-H"
   },
   "source": [
    "## 4.0 Comparing PorterStemmer & SnowballStemmer"
   ]
  },
  {
   "cell_type": "code",
   "execution_count": 15,
   "metadata": {
    "colab": {
     "base_uri": "https://localhost:8080/"
    },
    "executionInfo": {
     "elapsed": 457,
     "status": "ok",
     "timestamp": 1723739967612,
     "user": {
      "displayName": "Nazmirul Izzad Nassir",
      "userId": "07516674803625853227"
     },
     "user_tz": -480
    },
    "id": "ZCBNhTvf55hu",
    "outputId": "5d8f9a31-5a24-4351-848f-752ab2fb5adf"
   },
   "outputs": [
    {
     "data": {
      "text/plain": [
       "('fairli', 'sportingli')"
      ]
     },
     "execution_count": 15,
     "metadata": {},
     "output_type": "execute_result"
    }
   ],
   "source": [
    "stemming.stem('fairly'),stemming.stem('sportingly')"
   ]
  },
  {
   "cell_type": "code",
   "execution_count": 16,
   "metadata": {
    "colab": {
     "base_uri": "https://localhost:8080/"
    },
    "executionInfo": {
     "elapsed": 417,
     "status": "ok",
     "timestamp": 1723740003541,
     "user": {
      "displayName": "Nazmirul Izzad Nassir",
      "userId": "07516674803625853227"
     },
     "user_tz": -480
    },
    "id": "GSnlMxq26MXX",
    "outputId": "ae161927-33af-4cb0-b3d0-941dd9a93600"
   },
   "outputs": [
    {
     "data": {
      "text/plain": [
       "('fair', 'sport')"
      ]
     },
     "execution_count": 16,
     "metadata": {},
     "output_type": "execute_result"
    }
   ],
   "source": [
    "snowballstemmer.stem('fairly'),snowballstemmer.stem('sportingly')"
   ]
  },
  {
   "cell_type": "markdown",
   "metadata": {},
   "source": [
    "The SnowballStemmer is a better choice in stemming process"
   ]
  }
 ],
 "metadata": {
  "colab": {
   "authorship_tag": "ABX9TyNxFmCMMVFBCsMuCF3y95ds",
   "provenance": []
  },
  "kernelspec": {
   "display_name": "Python 3",
   "name": "python3"
  },
  "language_info": {
   "name": "python"
  }
 },
 "nbformat": 4,
 "nbformat_minor": 0
}
