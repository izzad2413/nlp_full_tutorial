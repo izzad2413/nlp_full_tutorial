{
 "cells": [
  {
   "cell_type": "markdown",
   "metadata": {
    "id": "dV3shgD-7AQz"
   },
   "source": [
    "## Wordnet Lemmatizer\n",
    "- Able to get the root word\n",
    "- Use case: Q&A, chatbots, text summarization"
   ]
  },
  {
   "cell_type": "code",
   "execution_count": 6,
   "metadata": {
    "executionInfo": {
     "elapsed": 512,
     "status": "ok",
     "timestamp": 1723740525619,
     "user": {
      "displayName": "Nazmirul Izzad Nassir",
      "userId": "07516674803625853227"
     },
     "user_tz": -480
    },
    "id": "VnaLwefc67Dc"
   },
   "outputs": [],
   "source": [
    "from nltk.stem import WordNetLemmatizer\n",
    "import nltk"
   ]
  },
  {
   "cell_type": "code",
   "execution_count": 7,
   "metadata": {
    "colab": {
     "base_uri": "https://localhost:8080/"
    },
    "executionInfo": {
     "elapsed": 588,
     "status": "ok",
     "timestamp": 1723740527631,
     "user": {
      "displayName": "Nazmirul Izzad Nassir",
      "userId": "07516674803625853227"
     },
     "user_tz": -480
    },
    "id": "JCUSw5gj8OWm",
    "outputId": "519aa729-89b8-4698-d11d-669d8858079b"
   },
   "outputs": [
    {
     "name": "stderr",
     "output_type": "stream",
     "text": [
      "[nltk_data] Downloading package wordnet to /root/nltk_data...\n"
     ]
    },
    {
     "data": {
      "text/plain": [
       "True"
      ]
     },
     "execution_count": 7,
     "metadata": {},
     "output_type": "execute_result"
    }
   ],
   "source": [
    "nltk.download('wordnet')"
   ]
  },
  {
   "cell_type": "code",
   "execution_count": 8,
   "metadata": {
    "executionInfo": {
     "elapsed": 501,
     "status": "ok",
     "timestamp": 1723740531900,
     "user": {
      "displayName": "Nazmirul Izzad Nassir",
      "userId": "07516674803625853227"
     },
     "user_tz": -480
    },
    "id": "Vd9dCVlo737k"
   },
   "outputs": [],
   "source": [
    "lemmatizer = WordNetLemmatizer()"
   ]
  },
  {
   "cell_type": "code",
   "execution_count": 11,
   "metadata": {
    "colab": {
     "base_uri": "https://localhost:8080/"
    },
    "executionInfo": {
     "elapsed": 411,
     "status": "ok",
     "timestamp": 1723740908458,
     "user": {
      "displayName": "Nazmirul Izzad Nassir",
      "userId": "07516674803625853227"
     },
     "user_tz": -480
    },
    "id": "68NvK6L28E-h",
    "outputId": "8eb7b6bc-0a38-41e2-f70b-65a6aa9b07ac"
   },
   "outputs": [
    {
     "name": "stdout",
     "output_type": "stream",
     "text": [
      "Word return: go\n"
     ]
    }
   ],
   "source": [
    "'''\n",
    "params for POS, default is n\n",
    "noun - n\n",
    "verb - v\n",
    "adjective - a\n",
    "adverb - r\n",
    "'''\n",
    "result = lemmatizer.lemmatize('going', pos='v')\n",
    "print(f'Word return: {result}')"
   ]
  },
  {
   "cell_type": "code",
   "execution_count": 12,
   "metadata": {
    "executionInfo": {
     "elapsed": 446,
     "status": "ok",
     "timestamp": 1723740931806,
     "user": {
      "displayName": "Nazmirul Izzad Nassir",
      "userId": "07516674803625853227"
     },
     "user_tz": -480
    },
    "id": "j0DI2BGx9QGv"
   },
   "outputs": [],
   "source": [
    "words = [\n",
    "    \"eating\",\n",
    "    \"eats\",\n",
    "    \"eaten\",\n",
    "    \"writing\",\n",
    "    \"writes\",\n",
    "    \"programming\",\n",
    "    \"program\",\n",
    "    \"history\",\n",
    "    \"finally\",\n",
    "    \"finalized\",\n",
    "    \"congratulation\",\n",
    "    \"sitting\"\n",
    "]"
   ]
  },
  {
   "cell_type": "code",
   "execution_count": 16,
   "metadata": {
    "colab": {
     "base_uri": "https://localhost:8080/"
    },
    "executionInfo": {
     "elapsed": 394,
     "status": "ok",
     "timestamp": 1723741040062,
     "user": {
      "displayName": "Nazmirul Izzad Nassir",
      "userId": "07516674803625853227"
     },
     "user_tz": -480
    },
    "id": "LxsDfI0w9Rmr",
    "outputId": "2d9d5ce7-810f-44c1-99e3-b990de8b8380"
   },
   "outputs": [
    {
     "name": "stdout",
     "output_type": "stream",
     "text": [
      "eating----->eat\n",
      "eats----->eat\n",
      "eaten----->eat\n",
      "writing----->write\n",
      "writes----->write\n",
      "programming----->program\n",
      "program----->program\n",
      "history----->history\n",
      "finally----->finally\n",
      "finalized----->finalize\n",
      "congratulation----->congratulation\n",
      "sitting----->sit\n"
     ]
    }
   ],
   "source": [
    "for word in words:\n",
    "  print(word+'----->'+lemmatizer.lemmatize(word, pos='v'))"
   ]
  }
 ],
 "metadata": {
  "colab": {
   "authorship_tag": "ABX9TyPlAHU72NS3rxSepyrI3he/",
   "provenance": []
  },
  "kernelspec": {
   "display_name": "Python 3",
   "name": "python3"
  },
  "language_info": {
   "name": "python"
  }
 },
 "nbformat": 4,
 "nbformat_minor": 0
}
